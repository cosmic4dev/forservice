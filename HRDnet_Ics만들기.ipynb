{
  "nbformat": 4,
  "nbformat_minor": 0,
  "metadata": {
    "colab": {
      "provenance": []
    },
    "kernelspec": {
      "name": "python3",
      "display_name": "Python 3"
    },
    "language_info": {
      "name": "python"
    }
  },
  "cells": [
    {
      "cell_type": "code",
      "source": [
        "from google.colab import drive\n",
        "drive.mount('/content/drive')"
      ],
      "metadata": {
        "colab": {
          "base_uri": "https://localhost:8080/"
        },
        "id": "LtlXEbTJ54Jv",
        "outputId": "c6c76919-84fa-4fbe-c1c2-08f899a76394"
      },
      "execution_count": 2,
      "outputs": [
        {
          "output_type": "stream",
          "name": "stdout",
          "text": [
            "Drive already mounted at /content/drive; to attempt to forcibly remount, call drive.mount(\"/content/drive\", force_remount=True).\n"
          ]
        }
      ]
    },
    {
      "cell_type": "code",
      "source": [
        "!pip install ics"
      ],
      "metadata": {
        "colab": {
          "base_uri": "https://localhost:8080/"
        },
        "id": "BIL7F-zySmvg",
        "outputId": "cc5d637b-7ce2-4ec7-cecc-75a8527df8af"
      },
      "execution_count": 4,
      "outputs": [
        {
          "output_type": "stream",
          "name": "stdout",
          "text": [
            "Collecting ics\n",
            "  Downloading ics-0.7.2-py2.py3-none-any.whl.metadata (4.2 kB)\n",
            "Requirement already satisfied: python-dateutil in /usr/local/lib/python3.10/dist-packages (from ics) (2.8.2)\n",
            "Collecting arrow>=0.11 (from ics)\n",
            "  Downloading arrow-1.3.0-py3-none-any.whl.metadata (7.5 kB)\n",
            "Requirement already satisfied: six>1.5 in /usr/local/lib/python3.10/dist-packages (from ics) (1.16.0)\n",
            "Collecting tatsu>4.2 (from ics)\n",
            "  Downloading TatSu-5.8.3-py2.py3-none-any.whl.metadata (13 kB)\n",
            "Requirement already satisfied: attrs>=19.1.0 in /usr/local/lib/python3.10/dist-packages (from ics) (23.2.0)\n",
            "Collecting types-python-dateutil>=2.8.10 (from arrow>=0.11->ics)\n",
            "  Downloading types_python_dateutil-2.9.0.20240316-py3-none-any.whl.metadata (1.8 kB)\n",
            "Downloading ics-0.7.2-py2.py3-none-any.whl (40 kB)\n",
            "\u001b[2K   \u001b[90m━━━━━━━━━━━━━━━━━━━━━━━━━━━━━━━━━━━━━━━━\u001b[0m \u001b[32m40.1/40.1 kB\u001b[0m \u001b[31m1.5 MB/s\u001b[0m eta \u001b[36m0:00:00\u001b[0m\n",
            "\u001b[?25hDownloading arrow-1.3.0-py3-none-any.whl (66 kB)\n",
            "\u001b[2K   \u001b[90m━━━━━━━━━━━━━━━━━━━━━━━━━━━━━━━━━━━━━━━━\u001b[0m \u001b[32m66.4/66.4 kB\u001b[0m \u001b[31m2.4 MB/s\u001b[0m eta \u001b[36m0:00:00\u001b[0m\n",
            "\u001b[?25hDownloading TatSu-5.8.3-py2.py3-none-any.whl (101 kB)\n",
            "\u001b[2K   \u001b[90m━━━━━━━━━━━━━━━━━━━━━━━━━━━━━━━━━━━━━━━━\u001b[0m \u001b[32m101.5/101.5 kB\u001b[0m \u001b[31m8.5 MB/s\u001b[0m eta \u001b[36m0:00:00\u001b[0m\n",
            "\u001b[?25hDownloading types_python_dateutil-2.9.0.20240316-py3-none-any.whl (9.7 kB)\n",
            "Installing collected packages: types-python-dateutil, tatsu, arrow, ics\n",
            "Successfully installed arrow-1.3.0 ics-0.7.2 tatsu-5.8.3 types-python-dateutil-2.9.0.20240316\n"
          ]
        }
      ]
    },
    {
      "cell_type": "code",
      "source": [
        "from ics import Calendar, Event\n",
        "import pandas as pd\n",
        "\n",
        "# Load the data\n",
        "file_path = '/content/drive/MyDrive/data/훈련과정목록2408.xlsx'\n",
        "df = pd.read_excel(file_path)\n",
        "\n",
        "# Create a new calendar\n",
        "calendar = Calendar()\n",
        "\n",
        "# Loop through the DataFrame and create events based on the training start date\n",
        "for index, row in df.iterrows():\n",
        "    event = Event()\n",
        "    event.name = row['훈련과정명']\n",
        "\n",
        "    # Parse the date and ensure it's in the correct format\n",
        "    start_date = pd.to_datetime(row['훈련시작일자'], format='%Y%m%d').date()\n",
        "    event.begin = start_date\n",
        "\n",
        "    # Set the event as an all-day event\n",
        "    event.make_all_day()\n",
        "\n",
        "    event.location = row['주소요약']\n",
        "    event.description = f\"기관: {row['훈련기관명']}\\n훈련일수: {row['훈련일수']}일\\n훈련시간: {row['훈련시간']}시간\\n취업률: {row['훈련기관취업률']}\\n훈련비: {row['훈련비']}원\\n자비부담금: {row['자비부담금']}원\"\n",
        "\n",
        "    # Add the event to the calendar\n",
        "    calendar.events.add(event)\n",
        "\n",
        "# Save the calendar to a .ics file\n",
        "with open('/content/drive/MyDrive/data/hrd_training_programs2408.ics', 'w', encoding='utf-8') as my_file:\n",
        "    my_file.writelines(calendar)\n",
        "\n",
        "print(\"Calendar saved to hrd_training_programs.ics\")\n"
      ],
      "metadata": {
        "colab": {
          "base_uri": "https://localhost:8080/"
        },
        "id": "CLcN35fzR_U1",
        "outputId": "46931777-5dab-4b2a-b5b9-828265d217b1"
      },
      "execution_count": 6,
      "outputs": [
        {
          "output_type": "stream",
          "name": "stdout",
          "text": [
            "Calendar saved to hrd_training_programs.ics\n"
          ]
        },
        {
          "output_type": "stream",
          "name": "stderr",
          "text": [
            "/usr/local/lib/python3.10/dist-packages/openpyxl/styles/stylesheet.py:237: UserWarning: Workbook contains no default style, apply openpyxl's default\n",
            "  warn(\"Workbook contains no default style, apply openpyxl's default\")\n"
          ]
        }
      ]
    }
  ]
}